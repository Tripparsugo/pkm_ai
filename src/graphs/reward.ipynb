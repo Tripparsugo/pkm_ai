{
 "cells": [
  {
   "cell_type": "code",
   "execution_count": 9,
   "metadata": {
    "collapsed": true
   },
   "outputs": [],
   "source": [
    "import pandas as pd\n",
    "import seaborn as sns"
   ]
  },
  {
   "cell_type": "code",
   "execution_count": 10,
   "outputs": [
    {
     "data": {
      "text/plain": "       i actionType     target    reward        pr\n0      3       SWAP    slowbro  0.006880 -0.365068\n1      0       SWAP    carbink -0.006880 -0.123745\n2      0       SWAP    claydol  0.009829 -0.123745\n3      3       SWAP      lugia -0.009829 -0.409580\n4      0       SWAP   giratina  0.014041 -0.123745\n...   ..        ...        ...       ...       ...\n22723  7     ATTACK      roost -0.577741  0.003904\n22724  8     ATTACK      toxic  0.677483 -0.098168\n22725  5     ATTACK  blueflare -0.677483 -0.065163\n22726  5     ATTACK   airslash  0.680001  0.100839\n22727  5     ATTACK  blueflare -0.680001 -0.065163\n\n[22728 rows x 5 columns]",
      "text/html": "<div>\n<style scoped>\n    .dataframe tbody tr th:only-of-type {\n        vertical-align: middle;\n    }\n\n    .dataframe tbody tr th {\n        vertical-align: top;\n    }\n\n    .dataframe thead th {\n        text-align: right;\n    }\n</style>\n<table border=\"1\" class=\"dataframe\">\n  <thead>\n    <tr style=\"text-align: right;\">\n      <th></th>\n      <th>i</th>\n      <th>actionType</th>\n      <th>target</th>\n      <th>reward</th>\n      <th>pr</th>\n    </tr>\n  </thead>\n  <tbody>\n    <tr>\n      <th>0</th>\n      <td>3</td>\n      <td>SWAP</td>\n      <td>slowbro</td>\n      <td>0.006880</td>\n      <td>-0.365068</td>\n    </tr>\n    <tr>\n      <th>1</th>\n      <td>0</td>\n      <td>SWAP</td>\n      <td>carbink</td>\n      <td>-0.006880</td>\n      <td>-0.123745</td>\n    </tr>\n    <tr>\n      <th>2</th>\n      <td>0</td>\n      <td>SWAP</td>\n      <td>claydol</td>\n      <td>0.009829</td>\n      <td>-0.123745</td>\n    </tr>\n    <tr>\n      <th>3</th>\n      <td>3</td>\n      <td>SWAP</td>\n      <td>lugia</td>\n      <td>-0.009829</td>\n      <td>-0.409580</td>\n    </tr>\n    <tr>\n      <th>4</th>\n      <td>0</td>\n      <td>SWAP</td>\n      <td>giratina</td>\n      <td>0.014041</td>\n      <td>-0.123745</td>\n    </tr>\n    <tr>\n      <th>...</th>\n      <td>...</td>\n      <td>...</td>\n      <td>...</td>\n      <td>...</td>\n      <td>...</td>\n    </tr>\n    <tr>\n      <th>22723</th>\n      <td>7</td>\n      <td>ATTACK</td>\n      <td>roost</td>\n      <td>-0.577741</td>\n      <td>0.003904</td>\n    </tr>\n    <tr>\n      <th>22724</th>\n      <td>8</td>\n      <td>ATTACK</td>\n      <td>toxic</td>\n      <td>0.677483</td>\n      <td>-0.098168</td>\n    </tr>\n    <tr>\n      <th>22725</th>\n      <td>5</td>\n      <td>ATTACK</td>\n      <td>blueflare</td>\n      <td>-0.677483</td>\n      <td>-0.065163</td>\n    </tr>\n    <tr>\n      <th>22726</th>\n      <td>5</td>\n      <td>ATTACK</td>\n      <td>airslash</td>\n      <td>0.680001</td>\n      <td>0.100839</td>\n    </tr>\n    <tr>\n      <th>22727</th>\n      <td>5</td>\n      <td>ATTACK</td>\n      <td>blueflare</td>\n      <td>-0.680001</td>\n      <td>-0.065163</td>\n    </tr>\n  </tbody>\n</table>\n<p>22728 rows × 5 columns</p>\n</div>"
     },
     "execution_count": 10,
     "metadata": {},
     "output_type": "execute_result"
    }
   ],
   "source": [
    "df = pd.read_csv(\"./data/rewards.csv\")\n",
    "df"
   ],
   "metadata": {
    "collapsed": false,
    "pycharm": {
     "name": "#%%\n"
    }
   }
  },
  {
   "cell_type": "code",
   "execution_count": 11,
   "outputs": [
    {
     "data": {
      "text/plain": "                  i        reward            pr\ncount  11866.000000  11866.000000  11866.000000\nmean       6.535564      0.059461     -0.019876\nstd        1.159635      0.324562      0.120895\nmin        5.000000     -1.116617     -0.576446\n25%        5.000000     -0.133482     -0.098168\n50%        6.000000      0.057059     -0.004673\n75%        8.000000      0.257235      0.049161\nmax        8.000000      1.331863      0.330033",
      "text/html": "<div>\n<style scoped>\n    .dataframe tbody tr th:only-of-type {\n        vertical-align: middle;\n    }\n\n    .dataframe tbody tr th {\n        vertical-align: top;\n    }\n\n    .dataframe thead th {\n        text-align: right;\n    }\n</style>\n<table border=\"1\" class=\"dataframe\">\n  <thead>\n    <tr style=\"text-align: right;\">\n      <th></th>\n      <th>i</th>\n      <th>reward</th>\n      <th>pr</th>\n    </tr>\n  </thead>\n  <tbody>\n    <tr>\n      <th>count</th>\n      <td>11866.000000</td>\n      <td>11866.000000</td>\n      <td>11866.000000</td>\n    </tr>\n    <tr>\n      <th>mean</th>\n      <td>6.535564</td>\n      <td>0.059461</td>\n      <td>-0.019876</td>\n    </tr>\n    <tr>\n      <th>std</th>\n      <td>1.159635</td>\n      <td>0.324562</td>\n      <td>0.120895</td>\n    </tr>\n    <tr>\n      <th>min</th>\n      <td>5.000000</td>\n      <td>-1.116617</td>\n      <td>-0.576446</td>\n    </tr>\n    <tr>\n      <th>25%</th>\n      <td>5.000000</td>\n      <td>-0.133482</td>\n      <td>-0.098168</td>\n    </tr>\n    <tr>\n      <th>50%</th>\n      <td>6.000000</td>\n      <td>0.057059</td>\n      <td>-0.004673</td>\n    </tr>\n    <tr>\n      <th>75%</th>\n      <td>8.000000</td>\n      <td>0.257235</td>\n      <td>0.049161</td>\n    </tr>\n    <tr>\n      <th>max</th>\n      <td>8.000000</td>\n      <td>1.331863</td>\n      <td>0.330033</td>\n    </tr>\n  </tbody>\n</table>\n</div>"
     },
     "execution_count": 11,
     "metadata": {},
     "output_type": "execute_result"
    }
   ],
   "source": [
    "df[df.actionType==\"ATTACK\"].describe()"
   ],
   "metadata": {
    "collapsed": false,
    "pycharm": {
     "name": "#%%\n"
    }
   }
  },
  {
   "cell_type": "code",
   "execution_count": 12,
   "outputs": [
    {
     "data": {
      "text/plain": "                  i        reward            pr\ncount  10862.000000  10862.000000  10862.000000\nmean       2.021911     -0.065176      0.018388\nstd        1.397671      0.245019      0.177865\nmin        0.000000     -1.331863     -0.489932\n25%        1.000000     -0.211473     -0.071708\n50%        2.000000     -0.051026      0.005856\n75%        3.000000      0.084610      0.123757\nmax        4.000000      0.843658      0.530914",
      "text/html": "<div>\n<style scoped>\n    .dataframe tbody tr th:only-of-type {\n        vertical-align: middle;\n    }\n\n    .dataframe tbody tr th {\n        vertical-align: top;\n    }\n\n    .dataframe thead th {\n        text-align: right;\n    }\n</style>\n<table border=\"1\" class=\"dataframe\">\n  <thead>\n    <tr style=\"text-align: right;\">\n      <th></th>\n      <th>i</th>\n      <th>reward</th>\n      <th>pr</th>\n    </tr>\n  </thead>\n  <tbody>\n    <tr>\n      <th>count</th>\n      <td>10862.000000</td>\n      <td>10862.000000</td>\n      <td>10862.000000</td>\n    </tr>\n    <tr>\n      <th>mean</th>\n      <td>2.021911</td>\n      <td>-0.065176</td>\n      <td>0.018388</td>\n    </tr>\n    <tr>\n      <th>std</th>\n      <td>1.397671</td>\n      <td>0.245019</td>\n      <td>0.177865</td>\n    </tr>\n    <tr>\n      <th>min</th>\n      <td>0.000000</td>\n      <td>-1.331863</td>\n      <td>-0.489932</td>\n    </tr>\n    <tr>\n      <th>25%</th>\n      <td>1.000000</td>\n      <td>-0.211473</td>\n      <td>-0.071708</td>\n    </tr>\n    <tr>\n      <th>50%</th>\n      <td>2.000000</td>\n      <td>-0.051026</td>\n      <td>0.005856</td>\n    </tr>\n    <tr>\n      <th>75%</th>\n      <td>3.000000</td>\n      <td>0.084610</td>\n      <td>0.123757</td>\n    </tr>\n    <tr>\n      <th>max</th>\n      <td>4.000000</td>\n      <td>0.843658</td>\n      <td>0.530914</td>\n    </tr>\n  </tbody>\n</table>\n</div>"
     },
     "execution_count": 12,
     "metadata": {},
     "output_type": "execute_result"
    }
   ],
   "source": [
    "df[df.actionType==\"SWAP\"].describe()"
   ],
   "metadata": {
    "collapsed": false,
    "pycharm": {
     "name": "#%%\n"
    }
   }
  },
  {
   "cell_type": "code",
   "execution_count": 12,
   "outputs": [],
   "source": [],
   "metadata": {
    "collapsed": false,
    "pycharm": {
     "name": "#%%\n"
    }
   }
  }
 ],
 "metadata": {
  "kernelspec": {
   "display_name": "Python 3",
   "language": "python",
   "name": "python3"
  },
  "language_info": {
   "codemirror_mode": {
    "name": "ipython",
    "version": 2
   },
   "file_extension": ".py",
   "mimetype": "text/x-python",
   "name": "python",
   "nbconvert_exporter": "python",
   "pygments_lexer": "ipython2",
   "version": "2.7.6"
  }
 },
 "nbformat": 4,
 "nbformat_minor": 0
}